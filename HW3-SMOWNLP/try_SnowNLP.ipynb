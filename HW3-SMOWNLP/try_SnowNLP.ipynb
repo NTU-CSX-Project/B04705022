{
 "cells": [
  {
   "cell_type": "code",
   "execution_count": 2,
   "metadata": {},
   "outputs": [],
   "source": [
    "# http://jeremy-xu.oschina.io/2017/03/16/%E4%BD%BF%E7%94%A8snownlp%E8%BF%9B%E8%A1%8C%E8%AF%84%E8%AE%BA%E6%83%85%E6%84%9F%E5%88%86%E6%9E%90/\n",
    "\n",
    "from snownlp import normal\n",
    "from snownlp import seg\n",
    "from snownlp.summary import textrank\n",
    "from snownlp import SnowNLP"
   ]
  },
  {
   "cell_type": "code",
   "execution_count": 3,
   "metadata": {},
   "outputs": [],
   "source": [
    "text='''英國《每日電訊報》12月23日報導，美國處於升息週期以及數位貨幣正式進軍主流的金融市場，是造成金價受到壓抑的主因。券商SP Angel分析師\n",
    "Sergey Raevskiy表示，美國正處於升息週期當中是打壓金價的主因，因升息提振美元並使得其他的投資工具更具有吸引力；並且，黃金的投資人還需負擔\n",
    "保管費用。商品經紀商Marex Spectron的貴金屬經理David Govett預估，過去一年以來，黃金的持有成本已經從每盎司4美分/日，倍增至每日8美分。\n",
    "Raevskiy認為，實物黃金需求並未對金價提供明顯的支撐，因主要消費國中國大陸與印度的需求疲弱。不過，黃金生產成本的上揚則是為金價提供一些底部支撐。\n",
    "Govett就指出，在金融海嘯以前，黃金的生產成本約在每盎司500美元左右，但目前已經提高至每盎司1,000美元左右。此外，對美國稅改的樂觀預期也對金價造成拖累，因稅改過關不僅提振美元，也會刺激市場的風險意願。\n",
    "Old Mutual Gold & Silver Fund基金經理人Ned Naylor-Leyland則是認為，數位貨幣的興起搶走了一部分的黃金市場份額，其所管理的基金最高可以配置5%的比特幣以及其他數位貨幣，並從今年四月份已經開始買入數位貨幣\n",
    "，稱比特幣在設計上就是一個數位黃金。Govett認為數位貨幣對黃金的確造成影響，但他認為影響應該不至於太大。此外，當前黃金的市場規模也遠不是數位貨幣能夠比擬的，比特幣市值約2,300億美元，黃金的市場規模則達到8兆美元。\n",
    "分析師對數位貨幣是否對黃金造成影響仍有不同看法，世界黃金協會以及高盛的報告都認為沒有跡象顯示黃金投資人轉向數位貨幣，因兩者的投資族群差異太大。但JP Morgan最新報告則稱，主流期貨交易所正式推出比特幣期貨\n",
    "，確實為比特幣的前景增加一些潛力，比特幣有機會成為一個新興的資產類別。FXTM分析師Lukman Otunuga則稱，比特幣的去中心化、固定供給以及便攜等特性，確實可以吸引到部分的黃金投資人。\n",
    "CNBC「Mad Money」節目主持人、前避險基金經理人Jim Cramer則認為投資人應該在投資組合當中持有10%的黃金，但他也坦承今年以來黃金的光彩是怎麼樣也比不上比特幣的。金價今年以來上漲約10%，\n",
    "比特幣則是飆漲1,000%。CBOE以及CME分別在12月10日以及18日上線比特幣期貨，CBOE的合約規格為一個比特幣，現金結算採用Gemini交易所的拍賣價；CME的合約規格為5個比特幣，現金結算採用該交易所編制的比特幣參考匯率。'''"
   ]
  },
  {
   "cell_type": "code",
   "execution_count": 5,
   "metadata": {},
   "outputs": [],
   "source": [
    "s=SnowNLP(text)"
   ]
  },
  {
   "cell_type": "code",
   "execution_count": 12,
   "metadata": {},
   "outputs": [
    {
     "name": "stdout",
     "output_type": "stream",
     "text": [
      "['金', '位', '幣', '為']\n"
     ]
    },
    {
     "data": {
      "text/plain": [
       "['Govett認為數位貨幣對黃金的確造成影響',\n",
       " '數位貨幣的興起搶走了一部分的黃金市場份額',\n",
       " '世界黃金協會以及高盛的報告都認為沒有跡象顯示黃金投資人轉向數位貨幣',\n",
       " '美國處於升息週期以及數位貨幣正式進軍主流的金融市場']"
      ]
     },
     "execution_count": 12,
     "metadata": {},
     "output_type": "execute_result"
    }
   ],
   "source": [
    "print(s.keywords(limit=4))\n",
    "s.summary(limit=4)"
   ]
  },
  {
   "cell_type": "code",
   "execution_count": 17,
   "metadata": {},
   "outputs": [
    {
     "data": {
      "text/plain": [
       "6.112270467539815e-09"
      ]
     },
     "execution_count": 17,
     "metadata": {},
     "output_type": "execute_result"
    }
   ],
   "source": [
    "s.sentiments"
   ]
  }
 ],
 "metadata": {
  "kernelspec": {
   "display_name": "Python 3",
   "language": "python",
   "name": "python3"
  },
  "language_info": {
   "codemirror_mode": {
    "name": "ipython",
    "version": 3
   },
   "file_extension": ".py",
   "mimetype": "text/x-python",
   "name": "python",
   "nbconvert_exporter": "python",
   "pygments_lexer": "ipython3",
   "version": "3.5.4"
  }
 },
 "nbformat": 4,
 "nbformat_minor": 2
}
